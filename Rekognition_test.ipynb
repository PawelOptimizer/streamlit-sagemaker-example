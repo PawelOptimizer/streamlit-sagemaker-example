{
 "cells": [
  {
   "cell_type": "code",
   "execution_count": 1,
   "id": "fb8e74d8-5f56-4bee-a022-903e36bd716d",
   "metadata": {},
   "outputs": [],
   "source": [
    "import streamlit as st\n",
    "import os\n",
    "import io\n",
    "import boto3\n",
    "from torchvision.io import read_image\n",
    "from torchvision.utils import draw_bounding_boxes\n",
    "import torch\n",
    "import torchvision\n",
    "from PIL import Image, ImageFile\n",
    "\n",
    "ImageFile.LOAD_TRUNCATED_IMAGES = True\n",
    "import pandas as pd\n",
    "import numpy as np\n",
    "from io import StringIO, BytesIO"
   ]
  },
  {
   "cell_type": "code",
   "execution_count": 3,
   "id": "cde24e0c-7b04-4df8-8afa-8ff637ae6960",
   "metadata": {},
   "outputs": [],
   "source": [
    "user_file_path = os.path.join(\"images\", \"cafe.jpg\")"
   ]
  },
  {
   "cell_type": "code",
   "execution_count": 4,
   "id": "d80f776e-8c82-46a4-a302-dbe11e819d15",
   "metadata": {},
   "outputs": [
    {
     "data": {
      "text/plain": [
       "'images/cafe.jpg'"
      ]
     },
     "execution_count": 4,
     "metadata": {},
     "output_type": "execute_result"
    }
   ],
   "source": [
    "user_file_path"
   ]
  },
  {
   "cell_type": "code",
   "execution_count": 5,
   "id": "87ca0b0a-3447-4bcd-b4aa-e4c5e2d7bbbc",
   "metadata": {},
   "outputs": [],
   "source": [
    "client = boto3.client(\"rekognition\")"
   ]
  },
  {
   "cell_type": "code",
   "execution_count": 15,
   "id": "49074474-4c92-450e-ad68-72affed0c2d5",
   "metadata": {},
   "outputs": [],
   "source": [
    "filename='images/Template_image.jpg'"
   ]
  },
  {
   "cell_type": "code",
   "execution_count": 16,
   "id": "28d22ac0-de53-417c-af04-cb16d0b46302",
   "metadata": {},
   "outputs": [],
   "source": [
    "image = Image.open(filename)\n"
   ]
  },
  {
   "cell_type": "code",
   "execution_count": 17,
   "id": "9fd50692-e8b7-4851-83b5-25e50e707184",
   "metadata": {},
   "outputs": [],
   "source": [
    "stream = io.BytesIO()\n",
    "image.save(stream, format=\"JPEG\")\n",
    "image_binary = stream.getvalue()"
   ]
  },
  {
   "cell_type": "code",
   "execution_count": 18,
   "id": "094f18e6-df23-4d13-977c-9fc106792a86",
   "metadata": {},
   "outputs": [],
   "source": [
    "response = client.detect_labels(Image={\"Bytes\": image_binary}, MaxLabels=100)"
   ]
  },
  {
   "cell_type": "code",
   "execution_count": 19,
   "id": "57b1891d-bda2-408c-8fb6-9fee28e47e87",
   "metadata": {},
   "outputs": [
    {
     "data": {
      "text/plain": [
       "{'Labels': [{'Name': 'Machine',\n",
       "   'Confidence': 99.93981170654297,\n",
       "   'Instances': [],\n",
       "   'Parents': [],\n",
       "   'Aliases': [],\n",
       "   'Categories': [{'Name': 'Tools and Machinery'}]},\n",
       "  {'Name': 'Wheel',\n",
       "   'Confidence': 99.93981170654297,\n",
       "   'Instances': [{'BoundingBox': {'Width': 0.1115262359380722,\n",
       "      'Height': 0.27287107706069946,\n",
       "      'Left': 0.3529883623123169,\n",
       "      'Top': 0.5504832863807678},\n",
       "     'Confidence': 96.22118377685547},\n",
       "    {'BoundingBox': {'Width': 0.04543888941407204,\n",
       "      'Height': 0.1434602290391922,\n",
       "      'Left': 0.16759677231311798,\n",
       "      'Top': 0.38312584161758423},\n",
       "     'Confidence': 93.14569091796875},\n",
       "    {'BoundingBox': {'Width': 0.06476478278636932,\n",
       "      'Height': 0.0450800321996212,\n",
       "      'Left': 0.497738778591156,\n",
       "      'Top': 0.29958847165107727},\n",
       "     'Confidence': 60.995948791503906}],\n",
       "   'Parents': [{'Name': 'Machine'}],\n",
       "   'Aliases': [],\n",
       "   'Categories': [{'Name': 'Vehicles and Automotive'}]},\n",
       "  {'Name': 'Tire',\n",
       "   'Confidence': 99.15381622314453,\n",
       "   'Instances': [],\n",
       "   'Parents': [],\n",
       "   'Aliases': [],\n",
       "   'Categories': [{'Name': 'Vehicles and Automotive'}]},\n",
       "  {'Name': 'Transportation',\n",
       "   'Confidence': 99.01438903808594,\n",
       "   'Instances': [],\n",
       "   'Parents': [],\n",
       "   'Aliases': [],\n",
       "   'Categories': [{'Name': 'Vehicles and Automotive'}]},\n",
       "  {'Name': 'Vehicle',\n",
       "   'Confidence': 99.01438903808594,\n",
       "   'Instances': [],\n",
       "   'Parents': [{'Name': 'Transportation'}],\n",
       "   'Aliases': [],\n",
       "   'Categories': [{'Name': 'Vehicles and Automotive'}]},\n",
       "  {'Name': 'Car',\n",
       "   'Confidence': 98.74403381347656,\n",
       "   'Instances': [{'BoundingBox': {'Width': 0.7644743323326111,\n",
       "      'Height': 0.6917634606361389,\n",
       "      'Left': 0.15879595279693604,\n",
       "      'Top': 0.18652686476707458},\n",
       "     'Confidence': 98.74403381347656}],\n",
       "   'Parents': [{'Name': 'Transportation'}, {'Name': 'Vehicle'}],\n",
       "   'Aliases': [{'Name': 'Automobile'}],\n",
       "   'Categories': [{'Name': 'Vehicles and Automotive'}]},\n",
       "  {'Name': 'Bumper',\n",
       "   'Confidence': 96.33151245117188,\n",
       "   'Instances': [],\n",
       "   'Parents': [{'Name': 'Transportation'}, {'Name': 'Vehicle'}],\n",
       "   'Aliases': [],\n",
       "   'Categories': [{'Name': 'Vehicles and Automotive'}]},\n",
       "  {'Name': 'Car Wheel',\n",
       "   'Confidence': 87.46459197998047,\n",
       "   'Instances': [],\n",
       "   'Parents': [{'Name': 'Car'},\n",
       "    {'Name': 'Machine'},\n",
       "    {'Name': 'Tire'},\n",
       "    {'Name': 'Transportation'},\n",
       "    {'Name': 'Vehicle'},\n",
       "    {'Name': 'Wheel'}],\n",
       "   'Aliases': [],\n",
       "   'Categories': [{'Name': 'Vehicles and Automotive'}]},\n",
       "  {'Name': 'Sedan',\n",
       "   'Confidence': 56.31535720825195,\n",
       "   'Instances': [],\n",
       "   'Parents': [{'Name': 'Car'},\n",
       "    {'Name': 'Transportation'},\n",
       "    {'Name': 'Vehicle'}],\n",
       "   'Aliases': [],\n",
       "   'Categories': [{'Name': 'Vehicles and Automotive'}]},\n",
       "  {'Name': 'Headlight',\n",
       "   'Confidence': 55.753143310546875,\n",
       "   'Instances': [],\n",
       "   'Parents': [{'Name': 'Transportation'}, {'Name': 'Vehicle'}],\n",
       "   'Aliases': [],\n",
       "   'Categories': [{'Name': 'Vehicles and Automotive'}]}],\n",
       " 'LabelModelVersion': '3.0',\n",
       " 'ResponseMetadata': {'RequestId': '75f8d696-7cf3-49e0-92bf-9dad7e8a782a',\n",
       "  'HTTPStatusCode': 200,\n",
       "  'HTTPHeaders': {'x-amzn-requestid': '75f8d696-7cf3-49e0-92bf-9dad7e8a782a',\n",
       "   'content-type': 'application/x-amz-json-1.1',\n",
       "   'content-length': '2436',\n",
       "   'date': 'Mon, 04 Nov 2024 21:49:39 GMT'},\n",
       "  'RetryAttempts': 0}}"
      ]
     },
     "execution_count": 19,
     "metadata": {},
     "output_type": "execute_result"
    }
   ],
   "source": [
    "response"
   ]
  },
  {
   "cell_type": "code",
   "execution_count": null,
   "id": "ff069541-195c-4579-a70a-e46e6978c77a",
   "metadata": {},
   "outputs": [],
   "source": []
  }
 ],
 "metadata": {
  "kernelspec": {
   "display_name": "Python 3 (ipykernel)",
   "language": "python",
   "name": "python3"
  },
  "language_info": {
   "codemirror_mode": {
    "name": "ipython",
    "version": 3
   },
   "file_extension": ".py",
   "mimetype": "text/x-python",
   "name": "python",
   "nbconvert_exporter": "python",
   "pygments_lexer": "ipython3",
   "version": "3.11.9"
  }
 },
 "nbformat": 4,
 "nbformat_minor": 5
}
